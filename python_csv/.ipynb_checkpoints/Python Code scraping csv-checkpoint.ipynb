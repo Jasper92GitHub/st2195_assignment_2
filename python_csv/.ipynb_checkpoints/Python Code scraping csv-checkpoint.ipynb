{
 "cells": [
  {
   "cell_type": "code",
   "execution_count": 1,
   "id": "4ec1db92",
   "metadata": {},
   "outputs": [],
   "source": [
    "import pandas as pd"
   ]
  },
  {
   "cell_type": "code",
   "execution_count": 4,
   "id": "ebe4e4a5",
   "metadata": {},
   "outputs": [
    {
     "name": "stdout",
     "output_type": "stream",
     "text": [
      "   Year   Make                                   Model  \\\n",
      "0  1997   Ford                                    E350   \n",
      "1  1999  Chevy              Venture \"Extended Edition\"   \n",
      "2  1999  Chevy  Venture \"Extended Edition, Very Large\"   \n",
      "3  1996   Jeep                          Grand Cherokee   \n",
      "\n",
      "                        Description   Price  \n",
      "0                     ac, abs, moon  3000.0  \n",
      "1                               NaN  4900.0  \n",
      "2                               NaN  5000.0  \n",
      "3  MUST SELL!air, moon roof, loaded  4799.0  \n"
     ]
    }
   ],
   "source": [
    "table = pd.read_html('https://en.wikipedia.org/wiki/Comma-separated_values')\n",
    "print(table[1])"
   ]
  },
  {
   "cell_type": "code",
   "execution_count": 6,
   "id": "0bb26111",
   "metadata": {},
   "outputs": [
    {
     "ename": "NameError",
     "evalue": "name 'data_python' is not defined",
     "output_type": "error",
     "traceback": [
      "\u001b[1;31m---------------------------------------------------------------------------\u001b[0m",
      "\u001b[1;31mNameError\u001b[0m                                 Traceback (most recent call last)",
      "\u001b[1;32m<ipython-input-6-ac7d40a27ad9>\u001b[0m in \u001b[0;36m<module>\u001b[1;34m\u001b[0m\n\u001b[0;32m      1\u001b[0m \u001b[0mtable\u001b[0m\u001b[1;33m[\u001b[0m\u001b[1;36m1\u001b[0m\u001b[1;33m]\u001b[0m\u001b[1;33m.\u001b[0m\u001b[0mto_csv\u001b[0m\u001b[1;33m(\u001b[0m\u001b[1;34m'data_python.csv'\u001b[0m\u001b[1;33m)\u001b[0m\u001b[1;33m\u001b[0m\u001b[1;33m\u001b[0m\u001b[0m\n\u001b[1;32m----> 2\u001b[1;33m \u001b[0mprint\u001b[0m\u001b[1;33m(\u001b[0m\u001b[0mdata_python\u001b[0m\u001b[1;33m.\u001b[0m\u001b[0mcsv\u001b[0m\u001b[1;33m)\u001b[0m\u001b[1;33m\u001b[0m\u001b[1;33m\u001b[0m\u001b[0m\n\u001b[0m",
      "\u001b[1;31mNameError\u001b[0m: name 'data_python' is not defined"
     ]
    }
   ],
   "source": [
    "table[1].to_csv('data_python.csv')"
   ]
  },
  {
   "cell_type": "code",
   "execution_count": null,
   "id": "19bea42a",
   "metadata": {},
   "outputs": [],
   "source": []
  }
 ],
 "metadata": {
  "kernelspec": {
   "display_name": "Python 3",
   "language": "python",
   "name": "python3"
  },
  "language_info": {
   "codemirror_mode": {
    "name": "ipython",
    "version": 3
   },
   "file_extension": ".py",
   "mimetype": "text/x-python",
   "name": "python",
   "nbconvert_exporter": "python",
   "pygments_lexer": "ipython3",
   "version": "3.8.8"
  }
 },
 "nbformat": 4,
 "nbformat_minor": 5
}
